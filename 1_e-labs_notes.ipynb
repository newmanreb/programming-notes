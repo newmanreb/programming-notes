{
 "cells": [
  {
   "metadata": {},
   "cell_type": "markdown",
   "source": [
    "#### Notes from E-labs\n",
    "##### Variable types\n",
    "d, i : integer\n",
    "s : string\n",
    "f, g : float\n",
    "- To be used like %s for string\n",
    "##### String functions"
   ],
   "id": "8a5a08fb76017c93"
  },
  {
   "metadata": {
    "collapsed": true
   },
   "cell_type": "code",
   "source": [
    ".lower() # Changes text to lowercase\n",
    ".upper() # Changes text to upper case (capitals)\n",
    ".isalpha() # Checks if text contains just text\n",
    ".isdigit() # Checks if text contains just numbers\n",
    ".isspace() # Checks if text is a space\n",
    ".startswith() # Looks for a string at the start of another\n",
    ".endswith() # Looks for a string at the end of another"
   ],
   "id": "initial_id",
   "outputs": [],
   "execution_count": null
  }
 ],
 "metadata": {
  "kernelspec": {
   "display_name": "Python 3",
   "language": "python",
   "name": "python3"
  },
  "language_info": {
   "codemirror_mode": {
    "name": "ipython",
    "version": 2
   },
   "file_extension": ".py",
   "mimetype": "text/x-python",
   "name": "python",
   "nbconvert_exporter": "python",
   "pygments_lexer": "ipython2",
   "version": "2.7.6"
  }
 },
 "nbformat": 4,
 "nbformat_minor": 5
}
