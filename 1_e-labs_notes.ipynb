{
 "cells": [
  {
   "metadata": {},
   "cell_type": "markdown",
   "source": [
    "### Notes from E-labs\n",
    "#### Variable types\n",
    "d, i : integer\n",
    "s : string\n",
    "f, g : float\n",
    "To be used like %s for string\n",
    "#### String functions"
   ],
   "id": "8a5a08fb76017c93"
  },
  {
   "metadata": {
    "collapsed": true
   },
   "cell_type": "code",
   "source": [
    ".lower() # Changes text to lowercase\n",
    ".upper() # Changes text to upper case (capitals)\n",
    ".isalpha() # Checks if text contains just text\n",
    ".isdigit() # Checks if text contains just numbers\n",
    ".isspace() # Checks if text is a space\n",
    ".startswith() # Looks for a string at the start of another\n",
    ".endswith() # Looks for a string at the end of another"
   ],
   "id": "initial_id",
   "outputs": [],
   "execution_count": null
  },
  {
   "metadata": {},
   "cell_type": "markdown",
   "source": [
    "#### Lists\n",
    "- An ordered structure, containing variables of different types\n",
    "- A list of lists is effectively a table\n",
    "- Can do things like store information about the alignment of a genome"
   ],
   "id": "cee8da669efbff60"
  },
  {
   "metadata": {},
   "cell_type": "code",
   "source": [
    "fruit = ['apple', 'pear', 'banana'] # defined with brackets\n",
    "\n",
    ".append()   # Adds an item to the end of a list\n",
    ".extend()   # Add multiple items to list\n",
    ".insert()   # Add an item to list in a specific position\n",
    ".remove()   # Remove a specified item from a list\n",
    ".pop()      # Remove item from a specified position or the last item if not\n",
    ".clear()    # Remove all items in a list\n",
    ".index()    # Find the index of an item in a list\n",
    ".count()    # Number of times an item appears in a list\n",
    ".sort()     # Order items in a list (can use reverse=True) to alter order\n",
    ".reverse()  # Reverse elements in a list\n",
    ".del()      # Might be a new function that isn't in the e-labs?"
   ],
   "id": "3c8cbc00b555ca1a",
   "outputs": [],
   "execution_count": null
  },
  {
   "metadata": {},
   "cell_type": "markdown",
   "source": [
    "#### Dictionary\n",
    "- Has a key - value relationship\n",
    "- Makes it easy to call on a certain key and can print all keys"
   ],
   "id": "a8333e4ec1b9a2db"
  },
  {
   "metadata": {},
   "cell_type": "code",
   "source": [
    "med_data = {\n",
    "    'name': 'Mike Smith',\n",
    "    'dob': '13/12/1979',\n",
    "    'age': 40,\n",
    "}"
   ],
   "id": "aa4b160ebc50e454",
   "outputs": [],
   "execution_count": null
  },
  {
   "metadata": {},
   "cell_type": "markdown",
   "source": [
    "#### Iteration\n",
    "- What if we have data in a list or a dictionary, and depending what it is, we want to do different things?\n",
    "- Set up a loop to go through a list or a dictionary and does something for each item\n",
    "##### For loops\n",
    "- Able to choose our \"i\" - value can be anything (in \"for i in list:\")\n",
    "- Will go until the list exhausts unless you tell it otherwise\n",
    "##### While loops\n",
    "- Loop that will proceed until a condition is met, as opposed to the for loop which goes until it exhausts"
   ],
   "id": "6a2d331684cbf116"
  },
  {
   "metadata": {},
   "cell_type": "code",
   "source": "len()   # Gives the number of elements in a list.",
   "id": "e4da14927348a4",
   "outputs": [],
   "execution_count": null
  },
  {
   "metadata": {},
   "cell_type": "markdown",
   "source": "- Counters can be a more Python way to write for loops",
   "id": "b73a415ba5315eac"
  },
  {
   "metadata": {},
   "cell_type": "code",
   "source": [
    "hours_worked = [8.5, 9, 12, 6, 6.5, 8.5, 12, 12, 9]\n",
    "counter = 0\n",
    "for hour in hours_worked:\n",
    "    hours_worked[counter] = hours_worked[counter] - 1\n",
    "    counter += 1\n",
    "\n",
    "print(hours_worked)"
   ],
   "id": "fbbe3ec85e4bc3fe",
   "outputs": [],
   "execution_count": null
  },
  {
   "metadata": {},
   "cell_type": "markdown",
   "source": [
    "- List comprehension: commonly used. Peter can send example of how it works\n",
    "- Creating a new list by a simple iterative function of another list\n",
    "- Can create an infinite loop - be careful!"
   ],
   "id": "c51bc722c6f9f998"
  },
  {
   "metadata": {
    "ExecuteTime": {
     "end_time": "2025-02-21T11:45:28.591796Z",
     "start_time": "2025-02-21T11:45:17.084693Z"
    }
   },
   "cell_type": "code",
   "source": [
    "login = \"\"\n",
    "while(login != \"letmein\"):\n",
    "    login = input(\"Please enter your login name: \")\n",
    "print(\"exited loop\")"
   ],
   "id": "6f72b129d3dd8da3",
   "outputs": [
    {
     "name": "stdout",
     "output_type": "stream",
     "text": [
      "exited loop\n"
     ]
    }
   ],
   "execution_count": 4
  },
  {
   "metadata": {
    "ExecuteTime": {
     "end_time": "2025-02-21T11:53:57.776017Z",
     "start_time": "2025-02-21T11:53:57.770854Z"
    }
   },
   "cell_type": "code",
   "source": [
    "complement = {\n",
    "    \"G\":\"C\",\n",
    "    \"C\":\"G\",\n",
    "    \"T\":\"A\",\n",
    "    \"A\":\"T\"}\n",
    "\n",
    "for base in complement: # Printing out each of the keys in complement dict\n",
    "    print(base)\n",
    "\n",
    "for k,v in complement.items():\n",
    "    print(f\"key {k} val {v}\")"
   ],
   "id": "aa3d71654724eb98",
   "outputs": [
    {
     "name": "stdout",
     "output_type": "stream",
     "text": [
      "G\n",
      "C\n",
      "T\n",
      "A\n",
      "key G val C\n",
      "key C val G\n",
      "key T val A\n",
      "key A val T\n"
     ]
    }
   ],
   "execution_count": 13
  },
  {
   "metadata": {
    "ExecuteTime": {
     "end_time": "2025-02-21T12:02:11.985854Z",
     "start_time": "2025-02-21T12:02:11.981708Z"
    }
   },
   "cell_type": "code",
   "source": [
    "# Old way of calling values into a string:\n",
    "name = \"Rebekah\"\n",
    "age = 30\n",
    "formatted_string = \"My name is %s and I am %i years old\" % (name, age)\n",
    "print(formatted_string)"
   ],
   "id": "4927e8870361049a",
   "outputs": [
    {
     "name": "stdout",
     "output_type": "stream",
     "text": [
      "My name is Rebekah and I am 30 years old\n"
     ]
    }
   ],
   "execution_count": 30
  },
  {
   "metadata": {
    "ExecuteTime": {
     "end_time": "2025-02-21T12:05:48.337584Z",
     "start_time": "2025-02-21T12:05:48.332926Z"
    }
   },
   "cell_type": "code",
   "source": [
    "# New way of calling values into a string:\n",
    "name = \"Rebekah\"\n",
    "age = 30\n",
    "age_truth = True\n",
    "formatted_string = f\"My name is {name} and it is {age_truth} that I am {age} years old\"\n",
    "print(formatted_string)"
   ],
   "id": "93027bd34674a56b",
   "outputs": [
    {
     "name": "stdout",
     "output_type": "stream",
     "text": [
      "My name is Rebekah and it is True that I am 30 years old\n"
     ]
    }
   ],
   "execution_count": 35
  }
 ],
 "metadata": {
  "kernelspec": {
   "display_name": "Python 3",
   "language": "python",
   "name": "python3"
  },
  "language_info": {
   "codemirror_mode": {
    "name": "ipython",
    "version": 2
   },
   "file_extension": ".py",
   "mimetype": "text/x-python",
   "name": "python",
   "nbconvert_exporter": "python",
   "pygments_lexer": "ipython2",
   "version": "2.7.6"
  }
 },
 "nbformat": 4,
 "nbformat_minor": 5
}
